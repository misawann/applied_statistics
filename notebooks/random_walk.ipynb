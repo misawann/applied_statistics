{
 "cells": [
  {
   "cell_type": "code",
   "execution_count": 2,
   "metadata": {},
   "outputs": [],
   "source": [
    "import numpy as np\n",
    "from numpy import random\n",
    "import matplotlib.pyplot as plt\n",
    "from copy import deepcopy\n",
    "from tqdm import tqdm"
   ]
  },
  {
   "cell_type": "code",
   "execution_count": 3,
   "metadata": {},
   "outputs": [],
   "source": [
    "class MCRandomWalk:\n",
    "    def __init__(self, dim) -> None:\n",
    "        self.dim = dim\n",
    "        \n",
    "    def transition(self, state):\n",
    "        random_dim = random.randint(0, self.dim)\n",
    "        sign = 2 * random.randint(0,2) - 1\n",
    "        state[random_dim] += sign\n",
    "        return state    \n",
    "    \n",
    "    def run(self, n_mc, recur_time):\n",
    "        initial_state = np.zeros(self.dim)\n",
    "        num_recur = 0\n",
    "        for step in range(n_mc):\n",
    "            state = deepcopy(initial_state)\n",
    "            for _ in range(recur_time):\n",
    "                state = self.transition(state)\n",
    "                if np.all(state == initial_state):\n",
    "                    num_recur += 1\n",
    "                    break\n",
    "        prob = num_recur / n_mc\n",
    "        return prob\n",
    "    \n",
    "    def repeat(self, n_repeat, n_mc, recur_time):\n",
    "        probs = []\n",
    "        for i in range(n_repeat):\n",
    "           prob = self.run(n_mc, recur_time)\n",
    "           probs.append(prob)\n",
    "        mean = np.mean(probs)\n",
    "        std = np.std(probs)\n",
    "        return mean, std"
   ]
  },
  {
   "cell_type": "code",
   "execution_count": 7,
   "metadata": {},
   "outputs": [],
   "source": [
    "def run_all(dims, recur_times, n_repeat, n_mc, log=False):\n",
    "    fig, ax = plt.subplots()\n",
    "    ax.set_xlabel(\"recursion time\")\n",
    "    ax.set_ylabel(\"ecdf\")\n",
    "    ax.set_ylim(0, 1.1)\n",
    "    \n",
    "    for dim in tqdm(dims):\n",
    "        means = []\n",
    "        stds = []\n",
    "        randomwalk = MCRandomWalk(dim)\n",
    "        for recur_time in recur_times:\n",
    "            mean, std = randomwalk.repeat(n_repeat, n_mc, recur_time)\n",
    "            means.append(mean)\n",
    "            stds.append(std)\n",
    "        ax.errorbar(recur_times, means, yerr=stds, fmt='o', markersize=10, ecolor='black', markeredgecolor = \"black\", label=f\"{dim}d\")\n",
    "    \n",
    "    ax.legend(loc=0)\n",
    "    if log:\n",
    "        ax.set_xscale('log')\n",
    "    plt.savefig('../misc/randomwalk.png')\n",
    "    plt.show()"
   ]
  },
  {
   "cell_type": "code",
   "execution_count": 4,
   "metadata": {},
   "outputs": [],
   "source": [
    "dims_test = [1, 2, 3]\n",
    "recur_times_test = np.linspace(10, 1000, 10, dtype=int).tolist()\n",
    "n_repeat_test = 5\n",
    "n_mc_test = 100"
   ]
  },
  {
   "cell_type": "code",
   "execution_count": 9,
   "metadata": {},
   "outputs": [
    {
     "ename": "NameError",
     "evalue": "name 'dims_test' is not defined",
     "output_type": "error",
     "traceback": [
      "\u001b[0;31m---------------------------------------------------------------------------\u001b[0m",
      "\u001b[0;31mNameError\u001b[0m                                 Traceback (most recent call last)",
      "\u001b[0;32m/var/folders/_4/gyvhxyrn0f50dkczdg1lrg4r0000gn/T/ipykernel_28274/639788627.py\u001b[0m in \u001b[0;36m<module>\u001b[0;34m\u001b[0m\n\u001b[0;32m----> 1\u001b[0;31m \u001b[0mmeans\u001b[0m\u001b[0;34m,\u001b[0m \u001b[0mstds\u001b[0m \u001b[0;34m=\u001b[0m \u001b[0mrun_all\u001b[0m\u001b[0;34m(\u001b[0m\u001b[0mdims_test\u001b[0m\u001b[0;34m,\u001b[0m \u001b[0mrecur_times_test\u001b[0m\u001b[0;34m,\u001b[0m \u001b[0mn_repeat_test\u001b[0m\u001b[0;34m,\u001b[0m \u001b[0mn_mc_test\u001b[0m\u001b[0;34m)\u001b[0m\u001b[0;34m\u001b[0m\u001b[0;34m\u001b[0m\u001b[0m\n\u001b[0m",
      "\u001b[0;31mNameError\u001b[0m: name 'dims_test' is not defined"
     ]
    }
   ],
   "source": [
    "run_all(dims_test, recur_times_test, n_repeat_test, n_mc_test)"
   ]
  },
  {
   "cell_type": "code",
   "execution_count": 11,
   "metadata": {},
   "outputs": [],
   "source": [
    "dims = [1, 2, 3, 10, 100]\n",
    "recur_times = np.linspace(10, 100, 10, dtype=int).tolist()\n",
    "n_repeat = 5\n",
    "n_mc = 1000"
   ]
  },
  {
   "cell_type": "code",
   "execution_count": 12,
   "metadata": {},
   "outputs": [
    {
     "name": "stderr",
     "output_type": "stream",
     "text": [
      "  0%|          | 0/5 [00:00<?, ?it/s]\r 20%|██        | 1/5 [00:10<00:40, 10.04s/it]\r 40%|████      | 2/5 [00:33<00:54, 18.14s/it]\r 60%|██████    | 3/5 [01:05<00:48, 24.36s/it]\r 80%|████████  | 4/5 [01:47<00:31, 31.26s/it]\r100%|██████████| 5/5 [02:31<00:00, 35.79s/it]\r100%|██████████| 5/5 [02:31<00:00, 30.26s/it]\n"
     ]
    },
    {
     "data": {
      "image/png": "[encoded data removed]",
      "text/plain": [
       "<Figure size 432x288 with 1 Axes>"
      ]
     },
     "metadata": {
      "needs_background": "light"
     },
     "output_type": "display_data"
    }
   ],
   "source": [
    "means, stds = run_all(dims, recur_times, n_repeat, n_mc)"
   ]
  },
  {
   "cell_type": "code",
   "execution_count": 14,
   "metadata": {},
   "outputs": [],
   "source": [
    "dims = [2]\n",
    "recur_times = np.linspace(10, 100, 10, dtype=int).tolist()\n",
    "n_repeat = 5\n",
    "n_mc = 1000"
   ]
  },
  {
   "cell_type": "code",
   "execution_count": 15,
   "metadata": {},
   "outputs": [
    {
     "name": "stderr",
     "output_type": "stream",
     "text": [
      "  0%|          | 0/1 [00:00<?, ?it/s]\r100%|██████████| 1/1 [00:24<00:00, 24.07s/it]\r100%|██████████| 1/1 [00:24<00:00, 24.07s/it]\n"
     ]
    },
    {
     "data": {
      "image/png": "[encoded data removed]",
      "text/plain": [
       "<Figure size 432x288 with 1 Axes>"
      ]
     },
     "metadata": {
      "needs_background": "light"
     },
     "output_type": "display_data"
    }
   ],
   "source": [
    "means, stds = run_all(dims, recur_times, n_repeat, n_mc)"
   ]
  },
  {
   "cell_type": "code",
   "execution_count": 16,
   "metadata": {},
   "outputs": [
    {
     "data": {
      "text/plain": [
       "[0.404,\n",
       " 0.47759999999999997,\n",
       " 0.5126000000000001,\n",
       " 0.513,\n",
       " 0.5488,\n",
       " 0.5566000000000001,\n",
       " 0.5650000000000001,\n",
       " 0.5758,\n",
       " 0.5692,\n",
       " 0.5666]"
      ]
     },
     "execution_count": 16,
     "metadata": {},
     "output_type": "execute_result"
    }
   ],
   "source": [
    "means"
   ]
  },
  {
   "cell_type": "code",
   "execution_count": 17,
   "metadata": {},
   "outputs": [
    {
     "data": {
      "text/plain": [
       "[0.009736529155710454,\n",
       " 0.01403709371629326,\n",
       " 0.010965400129498249,\n",
       " 0.01479188966968049,\n",
       " 0.015587174214718955,\n",
       " 0.012799999999999985,\n",
       " 0.010411532067856258,\n",
       " 0.024309668858295847,\n",
       " 0.01399142594591413,\n",
       " 0.008404760555780249]"
      ]
     },
     "execution_count": 17,
     "metadata": {},
     "output_type": "execute_result"
    }
   ],
   "source": [
    "stds"
   ]
  },
  {
   "cell_type": "code",
   "execution_count": 13,
   "metadata": {},
   "outputs": [
    {
     "data": {
      "text/plain": [
       "[0.005200000000000001,\n",
       " 0.0044,\n",
       " 0.0056,\n",
       " 0.0066,\n",
       " 0.006,\n",
       " 0.0046,\n",
       " 0.005200000000000001,\n",
       " 0.0056,\n",
       " 0.0048000000000000004,\n",
       " 0.005]"
      ]
     },
     "execution_count": 13,
     "metadata": {},
     "output_type": "execute_result"
    }
   ],
   "source": [
    "means"
   ]
  },
  {
   "cell_type": "markdown",
   "metadata": {},
   "source": [
    "分散が小さいため複数回実行しない"
   ]
  },
  {
   "cell_type": "code",
   "execution_count": 193,
   "metadata": {},
   "outputs": [
    {
     "name": "stderr",
     "output_type": "stream",
     "text": [
      "  0%|          | 0/3 [00:00<?, ?it/s]\r 33%|███▎      | 1/3 [00:23<00:47, 23.56s/it]\r 67%|██████▋   | 2/3 [1:00:36<35:34, 2134.86s/it]\r100%|██████████| 3/3 [3:55:47<00:00, 5959.47s/it]\r100%|██████████| 3/3 [3:55:47<00:00, 4715.70s/it]\n"
     ]
    },
    {
     "data": {
      "image/png": "[encoded data removed]",
      "text/plain": [
       "<Figure size 432x288 with 1 Axes>"
      ]
     },
     "metadata": {
      "needs_background": "light"
     },
     "output_type": "display_data"
    }
   ],
   "source": [
    "dims = [1, 2, 3]\n",
    "recur_times = np.linspace(1, 100, 10, dtype=int).tolist()\n",
    "additional_recur_times = [1000, 10000, 100000, 1000000]\n",
    "recur_times = recur_times + additional_recur_times\n",
    "n_repeat = 1\n",
    "n_mc = 1000\n",
    "run_all(dims, recur_times, n_repeat, n_mc, log=True)"
   ]
  },
  {
   "cell_type": "code",
   "execution_count": 5,
   "metadata": {},
   "outputs": [
    {
     "name": "stderr",
     "output_type": "stream",
     "text": [
      "  0%|          | 0/2 [00:00<?, ?it/s]\r 50%|█████     | 1/2 [18:10<18:10, 1090.39s/it]\r100%|██████████| 2/2 [22:18:16<00:00, 47040.99s/it]\r100%|██████████| 2/2 [22:18:16<00:00, 40148.41s/it]\n"
     ]
    },
    {
     "data": {
      "image/png": "[encoded data removed]",
      "text/plain": [
       "<Figure size 432x288 with 1 Axes>"
      ]
     },
     "metadata": {
      "needs_background": "light"
     },
     "output_type": "display_data"
    }
   ],
   "source": [
    "dims = [1, 2]\n",
    "recur_times = np.linspace(1, 100, 10, dtype=int).tolist()\n",
    "additional_recur_times = [1000, 10000, 100000, 1000000, 10000000]\n",
    "recur_times = recur_times + additional_recur_times\n",
    "n_repeat = 1\n",
    "n_mc = 1000\n",
    "run_all(dims, recur_times, n_repeat, n_mc, log=True)"
   ]
  },
  {
   "cell_type": "code",
   "execution_count": null,
   "metadata": {},
   "outputs": [],
   "source": []
  }
 ],
 "metadata": {
  "kernelspec": {
   "display_name": "sandbox",
   "language": "python",
   "name": "python3"
  },
  "language_info": {
   "codemirror_mode": {
    "name": "ipython",
    "version": 3
   },
   "file_extension": ".py",
   "mimetype": "text/x-python",
   "name": "python",
   "nbconvert_exporter": "python",
   "pygments_lexer": "ipython3",
   "version": "3.8.6 (default, Nov  1 2021, 15:43:17) \n[Clang 13.0.0 (clang-1300.0.29.3)]"
  },
  "orig_nbformat": 4,
  "vscode": {
   "interpreter": {
    "hash": "20ebbd932d455d70c8c1c230ea7f57d1432e659bf534569b894027e0c2fafa6d"
   }
  }
 },
 "nbformat": 4,
 "nbformat_minor": 2
}
